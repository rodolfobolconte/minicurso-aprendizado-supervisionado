{
 "nbformat": 4,
 "nbformat_minor": 2,
 "metadata": {
  "language_info": {
   "name": "python",
   "codemirror_mode": {
    "name": "ipython",
    "version": 3
   },
   "version": "3.6.8-final"
  },
  "orig_nbformat": 2,
  "file_extension": ".py",
  "mimetype": "text/x-python",
  "name": "python",
  "npconvert_exporter": "python",
  "pygments_lexer": "ipython3",
  "version": 3,
  "kernelspec": {
   "name": "python36864bitcefaae51de97494c8b3e896cae0342ea",
   "display_name": "Python 3.6.8 64-bit"
  }
 },
 "cells": [
  {
   "cell_type": "markdown",
   "execution_count": null,
   "metadata": {},
   "outputs": [],
   "source": [
    "# Classificação de Dados com Python 3\n",
    "\n",
    "## 0- Objetivo\n",
    "\n",
    "Carregar Conjunto de Dados com informações de Diagnósticos de Câncer de Mama para realizar a Classificação (em Malígno ou Benígno) destes dados utilizando algoritmos de Aprendizado de Máquina Supervisionado em Python.\n",
    "\n",
    "## 1- Conjunto de Dados (_Dataset_)\n",
    "\n",
    "Conjunto com amostras de Diagnósticos de Câncer de Mama com duas Classificações: Malígno (M) e Benígno (B).\n",
    "\n",
    "Informações do Conjnuto:\n",
    "- Construído em 1995;\n",
    "- Origem: _scikit-learn_;\n",
    "- Estrutura de Dados ao Carregar: _bunch_;\n",
    "- Atributos da Estrutura:\n",
    "    - _target_: rótulos das amostras;\n",
    "    - _target_names_: significado dos rótulos;\n",
    "    - _feature_names_: nome dos atributos;\n",
    "    - _DESCR_: descrição do Conjunto de Dados;\n",
    "    - _filename_: localização do Conjunto de Dados em .CSV.\n",
    "- Página do Conjunto de Dados: http://bit.ly/load_breast_cancer\n",
    "\n",
    "Informações dos Dados:\n",
    "- Número de Diagnósticos (Amostras): 569;\n",
    "- Duas Classificações:\n",
    "    - Diagnósticos Malígnos: 212;\n",
    "    - Diagnósticos Benígnos: 357.\n",
    "- Quantidade de Atributos: 30.\n"
   ]
  },
  {
   "cell_type": "code",
   "execution_count": null,
   "metadata": {},
   "outputs": [],
   "source": [
    "from sklearn.datasets import load_breast_cancer\n",
    "\n",
    "dataset = load_breast_cancer()\n",
    "\n",
    "print(\"Rótulos das amostras:\\n{}\\n\".format(dataset.target))\n",
    "\n",
    "print(\"Classificações possíveis:\\n{}\\n\".format(dataset.target_names))\n",
    "\n",
    "print('Atributos utilizados:\\n{}\\n'.format(dataset.feature_names))\n",
    "\n",
    "print('Quantidade de Amostras com Câncer:\\n{}\\n'.format(len(dataset.target[dataset.target == 0])))\n",
    "\n",
    "print('Quantidade de Amostras sem Câncer:\\n{}\\n'.format(len(dataset.target[dataset.target == 1])))\n",
    "\n",
    "print('Caminho do arquivo .CSV do Conjunto:\\n{}\\n'.format(dataset.filename))\n",
    "\n",
    "print('Descrição do Conjunto de Dados:\\n{}\\n'.format(dataset.DESCR))"
   ]
  },
  {
   "cell_type": "markdown",
   "execution_count": null,
   "metadata": {},
   "outputs": [],
   "source": [
    "### 1.1- Organizando o Conjunto de Dados\n",
    "\n",
    "Utilizar o método _Holdout_ para dividir o Conjunto de Dados em:\n",
    "\n",
    "- Quantidade de Amostras para Treino: 66% do Conjunto = 376 Amostras;\n",
    "- Quantidade de Amostras para Teste: 34% do Conjunto = 193 Amostras."
   ]
  },
  {
   "cell_type": "code",
   "execution_count": null,
   "metadata": {},
   "outputs": [],
   "source": [
    "import numpy as np\n",
    "\n",
    "#transforma os numpy arrays em arrays python\n",
    "samples = np.ndarray.tolist(dataset.data)\n",
    "feature_names = np.ndarray.tolist(dataset.feature_names)\n",
    "\n",
    "#insere a coluna 'target' no array de atributos\n",
    "feature_names.append('target')\n",
    "\n",
    "#insere o array de atributos no início do array de amostras\n",
    "samples.insert(0, feature_names)\n",
    "\n",
    "#variavel com os rótulos das amostras\n",
    "targets = np.ndarray.tolist(dataset.target)\n",
    "\n",
    "#coloca o rótulo de cada amostra em seu próprio array no array de amostras\n",
    "for sample, target in zip(samples[1:], targets):\n",
    "    sample.append(target)\n",
    "\n",
    "#transforma o array python com as amostras em um numpy array para ser transformado em dataframe pandas, por ser melhor estruturado\n",
    "samples = np.asarray(samples)\n",
    "\n",
    "import pandas as pd\n",
    "\n",
    "#transforma o numpy array com as amostras em dataframe pandas\n",
    "samples = pd.DataFrame(samples[1:], index=samples[1:], columns=samples[0])"
   ]
  },
  {
   "cell_type": "markdown",
   "execution_count": null,
   "metadata": {},
   "outputs": [],
   "source": [
    "### 1.2- Dividindo o Conjunto de Dados\n",
    "\n",
    "Utilizar o método _Holdout_ para dividir o Conjunto de Dados em:\n",
    "\n",
    "- Quantidade de Amostras para Treino: 66% do Conjunto = 376 Amostras;\n",
    "- Quantidade de Amostras para Teste: 34% do Conjunto = 193 Amostras."
   ]
  },
  {
   "cell_type": "code",
   "execution_count": null,
   "metadata": {},
   "outputs": [],
   "source": [
    "#reserva os primeiros 376 dados para treino\n",
    "trainX = samples[:376][feature_names[:-1]]\n",
    "trainY = samples[:376][feature_names[-1]]\n",
    "\n",
    "#reserva os últimos 193 dados para teste\n",
    "testX = samples[376:][feature_names[:-1]]\n",
    "testY = samples[376:][feature_names[-1]]\n",
    "\n",
    "print('Quantidade de Dados para Treino: {}'.format(len(trainX)))\n",
    "print('Quantidade de Dados para Teste: {}'.format(len(testX)))"
   ]
  },
  {
   "cell_type": "markdown",
   "execution_count": null,
   "metadata": {},
   "outputs": [],
   "source": [
    "## 2- Algoritmos de Classificação\n",
    "\n",
    "### 2.1- Algoritmos Únicos\n",
    "\n",
    "Utilização de modelos de Algoritmos Únicos para a Classificação de Amostras:\n",
    "- _Multinomial Naive Bayes_;\n",
    "- _Decision Tree_ (Árvore de Decisão)."
   ]
  },
  {
   "cell_type": "code",
   "execution_count": null,
   "metadata": {},
   "outputs": [],
   "source": [
    "from sklearn.naive_bayes import MultinomialNB\n",
    "from sklearn.tree import DecisionTreeClassifier\n",
    "\n",
    "#criando os modelos únicos de classificação\n",
    "modelMNB = MultinomialNB()\n",
    "modelDT = DecisionTreeClassifier()\n",
    "\n",
    "print(modelMNB)\n",
    "print(modelDT)"
   ]
  },
  {
   "cell_type": "markdown",
   "execution_count": null,
   "metadata": {},
   "outputs": [],
   "source": [
    "### 2.2- _Ensemble Methods_ (Algoritmos de Conjunto)\n",
    "\n",
    "_Ensemble Methods_ são algoritmos que criam várias instâncias de um único algoritmo de classificação para mediar o resultado para as amostras.\n",
    "\n",
    "Utilização dos _Ensemble Methods_:\n",
    "- _Random Forest_ (Floresta Aleatória);\n",
    "- _Adaptive Boosting_ (Reforço Adaptativo)."
   ]
  },
  {
   "cell_type": "code",
   "execution_count": null,
   "metadata": {},
   "outputs": [],
   "source": [
    "from sklearn.ensemble import RandomForestClassifier, AdaBoostClassifier\n",
    "\n",
    "#criando os modelos ensemble methods de classificação\n",
    "modelRF = RandomForestClassifier()\n",
    "modelAB = AdaBoostClassifier()\n",
    "\n",
    "print(modelRF)\n",
    "print(modelAB)"
   ]
  },
  {
   "cell_type": "markdown",
   "execution_count": null,
   "metadata": {},
   "outputs": [],
   "source": [
    "### 2.3- Treino e Teste dos Algoritmos\n",
    "\n",
    "Primeiro treinar os Algoritmos com os dados de treino (_trainX_ e _trainY_)\n",
    "\n",
    "Segundo testar os Algoritmos com os dados de teste (_testX_, não precisa dos rótulos das amostras em _testY_)"
   ]
  },
  {
   "cell_type": "code",
   "execution_count": null,
   "metadata": {},
   "outputs": [],
   "source": [
    "#treinando os modelos com as amostras de treino e seus rótulos\n",
    "modelMNB.fit(trainX, trainY)\n",
    "modelDT.fit(trainX, trainY)\n",
    "modelRF.fit(trainX, trainY)\n",
    "modelAB.fit(trainX, trainY)\n",
    "\n",
    "#testando os modelos com os dados de teste (previsão dos dados)\n",
    "previsionMNB = modelMNB.predict(testX)\n",
    "previsionDT = modelDT.predict(testX)\n",
    "previsionRF = modelRF.predict(testX)\n",
    "previsionAB = modelAB.predict(testX)"
   ]
  }
 ]
}